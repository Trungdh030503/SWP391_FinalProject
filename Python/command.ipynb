{
 "cells": [
  {
   "cell_type": "code",
   "execution_count": 1,
   "metadata": {},
   "outputs": [
    {
     "ename": "ModuleNotFoundError",
     "evalue": "No module named 'pandas'",
     "output_type": "error",
     "traceback": [
      "\u001b[1;31m---------------------------------------------------------------------------\u001b[0m",
      "\u001b[1;31mModuleNotFoundError\u001b[0m                       Traceback (most recent call last)",
      "Cell \u001b[1;32mIn[1], line 1\u001b[0m\n\u001b[1;32m----> 1\u001b[0m \u001b[39mimport\u001b[39;00m \u001b[39mpandas\u001b[39;00m \u001b[39mas\u001b[39;00m \u001b[39mpd\u001b[39;00m\n\u001b[0;32m      4\u001b[0m \u001b[39m# pd.read_csv('data.csv')\u001b[39;00m\n\u001b[0;32m      5\u001b[0m \u001b[39m# df = pd.DataFrame()\u001b[39;00m\n\u001b[0;32m      8\u001b[0m \u001b[39mdef\u001b[39;00m \u001b[39mmerge_data\u001b[39m(csv_file):\n",
      "\u001b[1;31mModuleNotFoundError\u001b[0m: No module named 'pandas'"
     ]
    }
   ],
   "source": [
    "import pandas as pd\n",
    "\n",
    "\n",
    "# pd.read_csv('data.csv')\n",
    "# df = pd.DataFrame()\n",
    "\n",
    "\n",
    "def merge_data(csv_file):\n",
    "    data = pd.read_csv(csv_file)\n",
    "    merged_data = data.pivot(index='Title', columns='Label', values='Value')\n",
    "    merged_data = merged_data.to_dict(orient='index')\n",
    "    return merged_data\n",
    "\n",
    "csv_file = 'data.csv'\n",
    "merge_data = merge_data(csv_file)\n",
    "\n",
    "for title, data in merge_data.items():\n",
    "    print(f'Title: {title}')\n",
    "    for label, value in data.items():\n",
    "        print(f'{label}: {value}')\n",
    "    print()"
   ]
  }
 ],
 "metadata": {
  "kernelspec": {
   "display_name": "py311",
   "language": "python",
   "name": "python3"
  },
  "language_info": {
   "codemirror_mode": {
    "name": "ipython",
    "version": 3
   },
   "file_extension": ".py",
   "mimetype": "text/x-python",
   "name": "python",
   "nbconvert_exporter": "python",
   "pygments_lexer": "ipython3",
   "version": "3.11.2"
  },
  "orig_nbformat": 4
 },
 "nbformat": 4,
 "nbformat_minor": 2
}
